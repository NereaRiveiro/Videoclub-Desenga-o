{
 "cells": [
  {
   "attachments": {},
   "cell_type": "markdown",
   "metadata": {},
   "source": [
    "## Resumen de limpieza\n",
    "\n",
    "Hemos revisado de cada uno de los archivos los nulos y los duplicados.\n",
    "\n",
    "- Se ha encontrado un duplicado en el archivo de 'actor.csv', para ello se filtró por nombre y apellido ya que el id era diferente.\n",
    "\n",
    "- Nulos solamente había en 'film.csv' en toda una columna y la hemos eliminado.\n",
    "\n",
    "- Hemos eliminado la columna 'last_update' en todos los archivos que la contenían ya que constaba siempre la misma fecha y no lo consideramos info relevante."
   ]
  },
  {
   "cell_type": "code",
   "execution_count": 1,
   "metadata": {},
   "outputs": [],
   "source": [
    "import pandas as pd\n",
    "import numpy as np\n",
    "from funciones import *\n",
    "\n",
    "import warnings\n",
    "warnings.filterwarnings('ignore')"
   ]
  },
  {
   "cell_type": "code",
   "execution_count": 2,
   "metadata": {},
   "outputs": [
    {
     "data": {
      "text/html": [
       "<div>\n",
       "<style scoped>\n",
       "    .dataframe tbody tr th:only-of-type {\n",
       "        vertical-align: middle;\n",
       "    }\n",
       "\n",
       "    .dataframe tbody tr th {\n",
       "        vertical-align: top;\n",
       "    }\n",
       "\n",
       "    .dataframe thead th {\n",
       "        text-align: right;\n",
       "    }\n",
       "</style>\n",
       "<table border=\"1\" class=\"dataframe\">\n",
       "  <thead>\n",
       "    <tr style=\"text-align: right;\">\n",
       "      <th></th>\n",
       "      <th>actor_id</th>\n",
       "      <th>first_name</th>\n",
       "      <th>last_name</th>\n",
       "      <th>last_update</th>\n",
       "    </tr>\n",
       "  </thead>\n",
       "  <tbody>\n",
       "    <tr>\n",
       "      <th>0</th>\n",
       "      <td>1</td>\n",
       "      <td>PENELOPE</td>\n",
       "      <td>GUINESS</td>\n",
       "      <td>2006-02-15 04:34:33</td>\n",
       "    </tr>\n",
       "    <tr>\n",
       "      <th>1</th>\n",
       "      <td>2</td>\n",
       "      <td>NICK</td>\n",
       "      <td>WAHLBERG</td>\n",
       "      <td>2006-02-15 04:34:33</td>\n",
       "    </tr>\n",
       "    <tr>\n",
       "      <th>2</th>\n",
       "      <td>3</td>\n",
       "      <td>ED</td>\n",
       "      <td>CHASE</td>\n",
       "      <td>2006-02-15 04:34:33</td>\n",
       "    </tr>\n",
       "    <tr>\n",
       "      <th>3</th>\n",
       "      <td>4</td>\n",
       "      <td>JENNIFER</td>\n",
       "      <td>DAVIS</td>\n",
       "      <td>2006-02-15 04:34:33</td>\n",
       "    </tr>\n",
       "    <tr>\n",
       "      <th>4</th>\n",
       "      <td>5</td>\n",
       "      <td>JOHNNY</td>\n",
       "      <td>LOLLOBRIGIDA</td>\n",
       "      <td>2006-02-15 04:34:33</td>\n",
       "    </tr>\n",
       "  </tbody>\n",
       "</table>\n",
       "</div>"
      ],
      "text/plain": [
       "   actor_id first_name     last_name          last_update\n",
       "0         1   PENELOPE       GUINESS  2006-02-15 04:34:33\n",
       "1         2       NICK      WAHLBERG  2006-02-15 04:34:33\n",
       "2         3         ED         CHASE  2006-02-15 04:34:33\n",
       "3         4   JENNIFER         DAVIS  2006-02-15 04:34:33\n",
       "4         5     JOHNNY  LOLLOBRIGIDA  2006-02-15 04:34:33"
      ]
     },
     "execution_count": 2,
     "metadata": {},
     "output_type": "execute_result"
    }
   ],
   "source": [
    "act = pd.read_csv('../../not/actor.csv')\n",
    "cat = pd.read_csv('../../not/category.csv')\n",
    "fil = pd.read_csv('../../not/film.csv')\n",
    "inv = pd.read_csv('../../not/inventory.csv')\n",
    "lan = pd.read_csv('../../not/language.csv')\n",
    "old = pd.read_csv('../../not/old_HDD.csv')\n",
    "ren = pd.read_csv('../../not/rental.csv')\n",
    "\n",
    "act.head()\n"
   ]
  },
  {
   "cell_type": "code",
   "execution_count": 3,
   "metadata": {},
   "outputs": [
    {
     "data": {
      "text/plain": [
       "(200, 4)"
      ]
     },
     "execution_count": 3,
     "metadata": {},
     "output_type": "execute_result"
    }
   ],
   "source": [
    "act.shape"
   ]
  },
  {
   "cell_type": "code",
   "execution_count": 4,
   "metadata": {},
   "outputs": [
    {
     "name": "stdout",
     "output_type": "stream",
     "text": [
      "Series([], dtype: int64)\n"
     ]
    }
   ],
   "source": [
    "nulitos(act)"
   ]
  },
  {
   "cell_type": "code",
   "execution_count": 5,
   "metadata": {},
   "outputs": [
    {
     "data": {
      "text/plain": [
       "array([False])"
      ]
     },
     "execution_count": 5,
     "metadata": {},
     "output_type": "execute_result"
    }
   ],
   "source": [
    "act.duplicated().unique()"
   ]
  },
  {
   "cell_type": "code",
   "execution_count": 6,
   "metadata": {},
   "outputs": [],
   "source": [
    "act = act.drop('last_update', axis=1)"
   ]
  },
  {
   "cell_type": "code",
   "execution_count": 7,
   "metadata": {},
   "outputs": [
    {
     "data": {
      "text/html": [
       "<div>\n",
       "<style scoped>\n",
       "    .dataframe tbody tr th:only-of-type {\n",
       "        vertical-align: middle;\n",
       "    }\n",
       "\n",
       "    .dataframe tbody tr th {\n",
       "        vertical-align: top;\n",
       "    }\n",
       "\n",
       "    .dataframe thead th {\n",
       "        text-align: right;\n",
       "    }\n",
       "</style>\n",
       "<table border=\"1\" class=\"dataframe\">\n",
       "  <thead>\n",
       "    <tr style=\"text-align: right;\">\n",
       "      <th></th>\n",
       "      <th>actor_id</th>\n",
       "      <th>first_name</th>\n",
       "      <th>last_name</th>\n",
       "    </tr>\n",
       "  </thead>\n",
       "  <tbody>\n",
       "    <tr>\n",
       "      <th>100</th>\n",
       "      <td>101</td>\n",
       "      <td>SUSAN</td>\n",
       "      <td>DAVIS</td>\n",
       "    </tr>\n",
       "    <tr>\n",
       "      <th>109</th>\n",
       "      <td>110</td>\n",
       "      <td>SUSAN</td>\n",
       "      <td>DAVIS</td>\n",
       "    </tr>\n",
       "  </tbody>\n",
       "</table>\n",
       "</div>"
      ],
      "text/plain": [
       "     actor_id first_name last_name\n",
       "100       101      SUSAN     DAVIS\n",
       "109       110      SUSAN     DAVIS"
      ]
     },
     "execution_count": 7,
     "metadata": {},
     "output_type": "execute_result"
    }
   ],
   "source": [
    "act.loc[act[['first_name', 'last_name']].duplicated(keep=False)]"
   ]
  },
  {
   "cell_type": "code",
   "execution_count": 8,
   "metadata": {},
   "outputs": [],
   "source": [
    "act.drop_duplicates(['first_name', 'last_name'], keep=False, inplace=True)"
   ]
  },
  {
   "cell_type": "code",
   "execution_count": 9,
   "metadata": {},
   "outputs": [
    {
     "data": {
      "text/html": [
       "<div>\n",
       "<style scoped>\n",
       "    .dataframe tbody tr th:only-of-type {\n",
       "        vertical-align: middle;\n",
       "    }\n",
       "\n",
       "    .dataframe tbody tr th {\n",
       "        vertical-align: top;\n",
       "    }\n",
       "\n",
       "    .dataframe thead th {\n",
       "        text-align: right;\n",
       "    }\n",
       "</style>\n",
       "<table border=\"1\" class=\"dataframe\">\n",
       "  <thead>\n",
       "    <tr style=\"text-align: right;\">\n",
       "      <th></th>\n",
       "      <th>actor_id</th>\n",
       "      <th>full_name</th>\n",
       "    </tr>\n",
       "  </thead>\n",
       "  <tbody>\n",
       "    <tr>\n",
       "      <th>0</th>\n",
       "      <td>1</td>\n",
       "      <td>PENELOPE GUINESS</td>\n",
       "    </tr>\n",
       "    <tr>\n",
       "      <th>1</th>\n",
       "      <td>2</td>\n",
       "      <td>NICK WAHLBERG</td>\n",
       "    </tr>\n",
       "    <tr>\n",
       "      <th>2</th>\n",
       "      <td>3</td>\n",
       "      <td>ED CHASE</td>\n",
       "    </tr>\n",
       "    <tr>\n",
       "      <th>3</th>\n",
       "      <td>4</td>\n",
       "      <td>JENNIFER DAVIS</td>\n",
       "    </tr>\n",
       "    <tr>\n",
       "      <th>4</th>\n",
       "      <td>5</td>\n",
       "      <td>JOHNNY LOLLOBRIGIDA</td>\n",
       "    </tr>\n",
       "    <tr>\n",
       "      <th>...</th>\n",
       "      <td>...</td>\n",
       "      <td>...</td>\n",
       "    </tr>\n",
       "    <tr>\n",
       "      <th>195</th>\n",
       "      <td>196</td>\n",
       "      <td>BELA WALKEN</td>\n",
       "    </tr>\n",
       "    <tr>\n",
       "      <th>196</th>\n",
       "      <td>197</td>\n",
       "      <td>REESE WEST</td>\n",
       "    </tr>\n",
       "    <tr>\n",
       "      <th>197</th>\n",
       "      <td>198</td>\n",
       "      <td>MARY KEITEL</td>\n",
       "    </tr>\n",
       "    <tr>\n",
       "      <th>198</th>\n",
       "      <td>199</td>\n",
       "      <td>JULIA FAWCETT</td>\n",
       "    </tr>\n",
       "    <tr>\n",
       "      <th>199</th>\n",
       "      <td>200</td>\n",
       "      <td>THORA TEMPLE</td>\n",
       "    </tr>\n",
       "  </tbody>\n",
       "</table>\n",
       "<p>198 rows × 2 columns</p>\n",
       "</div>"
      ],
      "text/plain": [
       "     actor_id            full_name\n",
       "0           1     PENELOPE GUINESS\n",
       "1           2        NICK WAHLBERG\n",
       "2           3             ED CHASE\n",
       "3           4       JENNIFER DAVIS\n",
       "4           5  JOHNNY LOLLOBRIGIDA\n",
       "..        ...                  ...\n",
       "195       196          BELA WALKEN\n",
       "196       197           REESE WEST\n",
       "197       198          MARY KEITEL\n",
       "198       199        JULIA FAWCETT\n",
       "199       200         THORA TEMPLE\n",
       "\n",
       "[198 rows x 2 columns]"
      ]
     },
     "execution_count": 9,
     "metadata": {},
     "output_type": "execute_result"
    }
   ],
   "source": [
    "act['full_name'] = act['first_name'].str.cat(act['last_name'], sep = ' ')\n",
    "act.drop(['first_name', 'last_name'], axis=1, inplace=True)\n",
    "act"
   ]
  },
  {
   "cell_type": "code",
   "execution_count": 10,
   "metadata": {},
   "outputs": [
    {
     "data": {
      "text/plain": [
       "array([False])"
      ]
     },
     "execution_count": 10,
     "metadata": {},
     "output_type": "execute_result"
    }
   ],
   "source": [
    "act['actor_id'].duplicated().unique()"
   ]
  },
  {
   "cell_type": "code",
   "execution_count": 11,
   "metadata": {},
   "outputs": [
    {
     "data": {
      "text/html": [
       "<div>\n",
       "<style scoped>\n",
       "    .dataframe tbody tr th:only-of-type {\n",
       "        vertical-align: middle;\n",
       "    }\n",
       "\n",
       "    .dataframe tbody tr th {\n",
       "        vertical-align: top;\n",
       "    }\n",
       "\n",
       "    .dataframe thead th {\n",
       "        text-align: right;\n",
       "    }\n",
       "</style>\n",
       "<table border=\"1\" class=\"dataframe\">\n",
       "  <thead>\n",
       "    <tr style=\"text-align: right;\">\n",
       "      <th></th>\n",
       "      <th>category_id</th>\n",
       "      <th>name</th>\n",
       "      <th>last_update</th>\n",
       "    </tr>\n",
       "  </thead>\n",
       "  <tbody>\n",
       "    <tr>\n",
       "      <th>0</th>\n",
       "      <td>1</td>\n",
       "      <td>Action</td>\n",
       "      <td>2006-02-15 04:46:27</td>\n",
       "    </tr>\n",
       "    <tr>\n",
       "      <th>1</th>\n",
       "      <td>2</td>\n",
       "      <td>Animation</td>\n",
       "      <td>2006-02-15 04:46:27</td>\n",
       "    </tr>\n",
       "    <tr>\n",
       "      <th>2</th>\n",
       "      <td>3</td>\n",
       "      <td>Children</td>\n",
       "      <td>2006-02-15 04:46:27</td>\n",
       "    </tr>\n",
       "    <tr>\n",
       "      <th>3</th>\n",
       "      <td>4</td>\n",
       "      <td>Classics</td>\n",
       "      <td>2006-02-15 04:46:27</td>\n",
       "    </tr>\n",
       "    <tr>\n",
       "      <th>4</th>\n",
       "      <td>5</td>\n",
       "      <td>Comedy</td>\n",
       "      <td>2006-02-15 04:46:27</td>\n",
       "    </tr>\n",
       "  </tbody>\n",
       "</table>\n",
       "</div>"
      ],
      "text/plain": [
       "   category_id       name          last_update\n",
       "0            1     Action  2006-02-15 04:46:27\n",
       "1            2  Animation  2006-02-15 04:46:27\n",
       "2            3   Children  2006-02-15 04:46:27\n",
       "3            4   Classics  2006-02-15 04:46:27\n",
       "4            5     Comedy  2006-02-15 04:46:27"
      ]
     },
     "execution_count": 11,
     "metadata": {},
     "output_type": "execute_result"
    }
   ],
   "source": [
    "cat.head()\n"
   ]
  },
  {
   "cell_type": "code",
   "execution_count": 12,
   "metadata": {},
   "outputs": [
    {
     "name": "stdout",
     "output_type": "stream",
     "text": [
      "Series([], dtype: int64)\n"
     ]
    }
   ],
   "source": [
    "nulitos(cat)"
   ]
  },
  {
   "cell_type": "code",
   "execution_count": 13,
   "metadata": {},
   "outputs": [
    {
     "data": {
      "text/plain": [
       "(16, 3)"
      ]
     },
     "execution_count": 13,
     "metadata": {},
     "output_type": "execute_result"
    }
   ],
   "source": [
    "cat.shape"
   ]
  },
  {
   "cell_type": "code",
   "execution_count": 14,
   "metadata": {},
   "outputs": [
    {
     "data": {
      "text/plain": [
       "array([False])"
      ]
     },
     "execution_count": 14,
     "metadata": {},
     "output_type": "execute_result"
    }
   ],
   "source": [
    "cat = cat.drop('last_update', axis=1)\n",
    "cat['category_id'].duplicated().unique()"
   ]
  },
  {
   "cell_type": "code",
   "execution_count": 15,
   "metadata": {},
   "outputs": [
    {
     "data": {
      "text/html": [
       "<div>\n",
       "<style scoped>\n",
       "    .dataframe tbody tr th:only-of-type {\n",
       "        vertical-align: middle;\n",
       "    }\n",
       "\n",
       "    .dataframe tbody tr th {\n",
       "        vertical-align: top;\n",
       "    }\n",
       "\n",
       "    .dataframe thead th {\n",
       "        text-align: right;\n",
       "    }\n",
       "</style>\n",
       "<table border=\"1\" class=\"dataframe\">\n",
       "  <thead>\n",
       "    <tr style=\"text-align: right;\">\n",
       "      <th></th>\n",
       "      <th>film_id</th>\n",
       "      <th>title</th>\n",
       "      <th>description</th>\n",
       "      <th>release_year</th>\n",
       "      <th>language_id</th>\n",
       "      <th>original_language_id</th>\n",
       "      <th>rental_duration</th>\n",
       "      <th>rental_rate</th>\n",
       "      <th>length</th>\n",
       "      <th>replacement_cost</th>\n",
       "      <th>rating</th>\n",
       "      <th>special_features</th>\n",
       "      <th>last_update</th>\n",
       "    </tr>\n",
       "  </thead>\n",
       "  <tbody>\n",
       "    <tr>\n",
       "      <th>0</th>\n",
       "      <td>1</td>\n",
       "      <td>ACADEMY DINOSAUR</td>\n",
       "      <td>A Epic Drama of a Feminist And a Mad Scientist...</td>\n",
       "      <td>2006</td>\n",
       "      <td>1</td>\n",
       "      <td>NaN</td>\n",
       "      <td>6</td>\n",
       "      <td>0.99</td>\n",
       "      <td>86</td>\n",
       "      <td>20.99</td>\n",
       "      <td>PG</td>\n",
       "      <td>Deleted Scenes,Behind the Scenes</td>\n",
       "      <td>2006-02-15 05:03:42</td>\n",
       "    </tr>\n",
       "    <tr>\n",
       "      <th>1</th>\n",
       "      <td>2</td>\n",
       "      <td>ACE GOLDFINGER</td>\n",
       "      <td>A Astounding Epistle of a Database Administrat...</td>\n",
       "      <td>2006</td>\n",
       "      <td>1</td>\n",
       "      <td>NaN</td>\n",
       "      <td>3</td>\n",
       "      <td>4.99</td>\n",
       "      <td>48</td>\n",
       "      <td>12.99</td>\n",
       "      <td>G</td>\n",
       "      <td>Trailers,Deleted Scenes</td>\n",
       "      <td>2006-02-15 05:03:42</td>\n",
       "    </tr>\n",
       "    <tr>\n",
       "      <th>2</th>\n",
       "      <td>3</td>\n",
       "      <td>ADAPTATION HOLES</td>\n",
       "      <td>A Astounding Reflection of a Lumberjack And a ...</td>\n",
       "      <td>2006</td>\n",
       "      <td>1</td>\n",
       "      <td>NaN</td>\n",
       "      <td>7</td>\n",
       "      <td>2.99</td>\n",
       "      <td>50</td>\n",
       "      <td>18.99</td>\n",
       "      <td>NC-17</td>\n",
       "      <td>Trailers,Deleted Scenes</td>\n",
       "      <td>2006-02-15 05:03:42</td>\n",
       "    </tr>\n",
       "    <tr>\n",
       "      <th>3</th>\n",
       "      <td>4</td>\n",
       "      <td>AFFAIR PREJUDICE</td>\n",
       "      <td>A Fanciful Documentary of a Frisbee And a Lumb...</td>\n",
       "      <td>2006</td>\n",
       "      <td>1</td>\n",
       "      <td>NaN</td>\n",
       "      <td>5</td>\n",
       "      <td>2.99</td>\n",
       "      <td>117</td>\n",
       "      <td>26.99</td>\n",
       "      <td>G</td>\n",
       "      <td>Commentaries,Behind the Scenes</td>\n",
       "      <td>2006-02-15 05:03:42</td>\n",
       "    </tr>\n",
       "    <tr>\n",
       "      <th>4</th>\n",
       "      <td>5</td>\n",
       "      <td>AFRICAN EGG</td>\n",
       "      <td>A Fast-Paced Documentary of a Pastry Chef And ...</td>\n",
       "      <td>2006</td>\n",
       "      <td>1</td>\n",
       "      <td>NaN</td>\n",
       "      <td>6</td>\n",
       "      <td>2.99</td>\n",
       "      <td>130</td>\n",
       "      <td>22.99</td>\n",
       "      <td>G</td>\n",
       "      <td>Deleted Scenes</td>\n",
       "      <td>2006-02-15 05:03:42</td>\n",
       "    </tr>\n",
       "  </tbody>\n",
       "</table>\n",
       "</div>"
      ],
      "text/plain": [
       "   film_id             title   \n",
       "0        1  ACADEMY DINOSAUR  \\\n",
       "1        2    ACE GOLDFINGER   \n",
       "2        3  ADAPTATION HOLES   \n",
       "3        4  AFFAIR PREJUDICE   \n",
       "4        5       AFRICAN EGG   \n",
       "\n",
       "                                         description  release_year   \n",
       "0  A Epic Drama of a Feminist And a Mad Scientist...          2006  \\\n",
       "1  A Astounding Epistle of a Database Administrat...          2006   \n",
       "2  A Astounding Reflection of a Lumberjack And a ...          2006   \n",
       "3  A Fanciful Documentary of a Frisbee And a Lumb...          2006   \n",
       "4  A Fast-Paced Documentary of a Pastry Chef And ...          2006   \n",
       "\n",
       "   language_id  original_language_id  rental_duration  rental_rate  length   \n",
       "0            1                   NaN                6         0.99      86  \\\n",
       "1            1                   NaN                3         4.99      48   \n",
       "2            1                   NaN                7         2.99      50   \n",
       "3            1                   NaN                5         2.99     117   \n",
       "4            1                   NaN                6         2.99     130   \n",
       "\n",
       "   replacement_cost rating                  special_features   \n",
       "0             20.99     PG  Deleted Scenes,Behind the Scenes  \\\n",
       "1             12.99      G           Trailers,Deleted Scenes   \n",
       "2             18.99  NC-17           Trailers,Deleted Scenes   \n",
       "3             26.99      G    Commentaries,Behind the Scenes   \n",
       "4             22.99      G                    Deleted Scenes   \n",
       "\n",
       "           last_update  \n",
       "0  2006-02-15 05:03:42  \n",
       "1  2006-02-15 05:03:42  \n",
       "2  2006-02-15 05:03:42  \n",
       "3  2006-02-15 05:03:42  \n",
       "4  2006-02-15 05:03:42  "
      ]
     },
     "execution_count": 15,
     "metadata": {},
     "output_type": "execute_result"
    }
   ],
   "source": [
    "fil.head()"
   ]
  },
  {
   "cell_type": "code",
   "execution_count": 16,
   "metadata": {},
   "outputs": [
    {
     "data": {
      "text/plain": [
       "release_year\n",
       "2006    1000\n",
       "Name: count, dtype: int64"
      ]
     },
     "execution_count": 16,
     "metadata": {},
     "output_type": "execute_result"
    }
   ],
   "source": [
    "fil['release_year'].value_counts()"
   ]
  },
  {
   "cell_type": "code",
   "execution_count": 51,
   "metadata": {},
   "outputs": [
    {
     "data": {
      "text/plain": [
       "array([   1,    2,    3,    4,    5,    6,    7,    8,    9,   10,   11,\n",
       "         12,   13,   14,   15,   16,   17,   18,   19,   20,   21,   22,\n",
       "         23,   24,   25,   26,   27,   28,   29,   30,   31,   32,   33,\n",
       "         34,   35,   36,   37,   38,   39,   40,   41,   42,   43,   44,\n",
       "         45,   46,   47,   48,   49,   50,   51,   52,   53,   54,   55,\n",
       "         56,   57,   58,   59,   60,   61,   62,   63,   64,   65,   66,\n",
       "         67,   68,   69,   70,   71,   72,   73,   74,   75,   76,   77,\n",
       "         78,   79,   80,   81,   82,   83,   84,   85,   86,   87,   88,\n",
       "         89,   90,   91,   92,   93,   94,   95,   96,   97,   98,   99,\n",
       "        100,  101,  102,  103,  104,  105,  106,  107,  108,  109,  110,\n",
       "        111,  112,  113,  114,  115,  116,  117,  118,  119,  120,  121,\n",
       "        122,  123,  124,  125,  126,  127,  128,  129,  130,  131,  132,\n",
       "        133,  134,  135,  136,  137,  138,  139,  140,  141,  142,  143,\n",
       "        144,  145,  146,  147,  148,  149,  150,  151,  152,  153,  154,\n",
       "        155,  156,  157,  158,  159,  160,  161,  162,  163,  164,  165,\n",
       "        166,  167,  168,  169,  170,  171,  172,  173,  174,  175,  176,\n",
       "        177,  178,  179,  180,  181,  182,  183,  184,  185,  186,  187,\n",
       "        188,  189,  190,  191,  192,  193,  194,  195,  196,  197,  198,\n",
       "        199,  200,  201,  202,  203,  204,  205,  206,  207,  208,  209,\n",
       "        210,  211,  212,  213,  214,  215,  216,  217,  218,  219,  220,\n",
       "        221,  222,  223,  224,  225,  226,  227,  228,  229,  230,  231,\n",
       "        232,  233,  234,  235,  236,  237,  238,  239,  240,  241,  242,\n",
       "        243,  244,  245,  246,  247,  248,  249,  250,  251,  252,  253,\n",
       "        254,  255,  256,  257,  258,  259,  260,  261,  262,  263,  264,\n",
       "        265,  266,  267,  268,  269,  270,  271,  272,  273,  274,  275,\n",
       "        276,  277,  278,  279,  280,  281,  282,  283,  284,  285,  286,\n",
       "        287,  288,  289,  290,  291,  292,  293,  294,  295,  296,  297,\n",
       "        298,  299,  300,  301,  302,  303,  304,  305,  306,  307,  308,\n",
       "        309,  310,  311,  312,  313,  314,  315,  316,  317,  318,  319,\n",
       "        320,  321,  322,  323,  324,  325,  326,  327,  328,  329,  330,\n",
       "        331,  332,  333,  334,  335,  336,  337,  338,  339,  340,  341,\n",
       "        342,  343,  344,  345,  346,  347,  348,  349,  350,  351,  352,\n",
       "        353,  354,  355,  356,  357,  358,  359,  360,  361,  362,  363,\n",
       "        364,  365,  366,  367,  368,  369,  370,  371,  372,  373,  374,\n",
       "        375,  376,  377,  378,  379,  380,  381,  382,  383,  384,  385,\n",
       "        386,  387,  388,  389,  390,  391,  392,  393,  394,  395,  396,\n",
       "        397,  398,  399,  400,  401,  402,  403,  404,  405,  406,  407,\n",
       "        408,  409,  410,  411,  412,  413,  414,  415,  416,  417,  418,\n",
       "        419,  420,  421,  422,  423,  424,  425,  426,  427,  428,  429,\n",
       "        430,  431,  432,  433,  434,  435,  436,  437,  438,  439,  440,\n",
       "        441,  442,  443,  444,  445,  446,  447,  448,  449,  450,  451,\n",
       "        452,  453,  454,  455,  456,  457,  458,  459,  460,  461,  462,\n",
       "        463,  464,  465,  466,  467,  468,  469,  470,  471,  472,  473,\n",
       "        474,  475,  476,  477,  478,  479,  480,  481,  482,  483,  484,\n",
       "        485,  486,  487,  488,  489,  490,  491,  492,  493,  494,  495,\n",
       "        496,  497,  498,  499,  500,  501,  502,  503,  504,  505,  506,\n",
       "        507,  508,  509,  510,  511,  512,  513,  514,  515,  516,  517,\n",
       "        518,  519,  520,  521,  522,  523,  524,  525,  526,  527,  528,\n",
       "        529,  530,  531,  532,  533,  534,  535,  536,  537,  538,  539,\n",
       "        540,  541,  542,  543,  544,  545,  546,  547,  548,  549,  550,\n",
       "        551,  552,  553,  554,  555,  556,  557,  558,  559,  560,  561,\n",
       "        562,  563,  564,  565,  566,  567,  568,  569,  570,  571,  572,\n",
       "        573,  574,  575,  576,  577,  578,  579,  580,  581,  582,  583,\n",
       "        584,  585,  586,  587,  588,  589,  590,  591,  592,  593,  594,\n",
       "        595,  596,  597,  598,  599,  600,  601,  602,  603,  604,  605,\n",
       "        606,  607,  608,  609,  610,  611,  612,  613,  614,  615,  616,\n",
       "        617,  618,  619,  620,  621,  622,  623,  624,  625,  626,  627,\n",
       "        628,  629,  630,  631,  632,  633,  634,  635,  636,  637,  638,\n",
       "        639,  640,  641,  642,  643,  644,  645,  646,  647,  648,  649,\n",
       "        650,  651,  652,  653,  654,  655,  656,  657,  658,  659,  660,\n",
       "        661,  662,  663,  664,  665,  666,  667,  668,  669,  670,  671,\n",
       "        672,  673,  674,  675,  676,  677,  678,  679,  680,  681,  682,\n",
       "        683,  684,  685,  686,  687,  688,  689,  690,  691,  692,  693,\n",
       "        694,  695,  696,  697,  698,  699,  700,  701,  702,  703,  704,\n",
       "        705,  706,  707,  708,  709,  710,  711,  712,  713,  714,  715,\n",
       "        716,  717,  718,  719,  720,  721,  722,  723,  724,  725,  726,\n",
       "        727,  728,  729,  730,  731,  732,  733,  734,  735,  736,  737,\n",
       "        738,  739,  740,  741,  742,  743,  744,  745,  746,  747,  748,\n",
       "        749,  750,  751,  752,  753,  754,  755,  756,  757,  758,  759,\n",
       "        760,  761,  762,  763,  764,  765,  766,  767,  768,  769,  770,\n",
       "        771,  772,  773,  774,  775,  776,  777,  778,  779,  780,  781,\n",
       "        782,  783,  784,  785,  786,  787,  788,  789,  790,  791,  792,\n",
       "        793,  794,  795,  796,  797,  798,  799,  800,  801,  802,  803,\n",
       "        804,  805,  806,  807,  808,  809,  810,  811,  812,  813,  814,\n",
       "        815,  816,  817,  818,  819,  820,  821,  822,  823,  824,  825,\n",
       "        826,  827,  828,  829,  830,  831,  832,  833,  834,  835,  836,\n",
       "        837,  838,  839,  840,  841,  842,  843,  844,  845,  846,  847,\n",
       "        848,  849,  850,  851,  852,  853,  854,  855,  856,  857,  858,\n",
       "        859,  860,  861,  862,  863,  864,  865,  866,  867,  868,  869,\n",
       "        870,  871,  872,  873,  874,  875,  876,  877,  878,  879,  880,\n",
       "        881,  882,  883,  884,  885,  886,  887,  888,  889,  890,  891,\n",
       "        892,  893,  894,  895,  896,  897,  898,  899,  900,  901,  902,\n",
       "        903,  904,  905,  906,  907,  908,  909,  910,  911,  912,  913,\n",
       "        914,  915,  916,  917,  918,  919,  920,  921,  922,  923,  924,\n",
       "        925,  926,  927,  928,  929,  930,  931,  932,  933,  934,  935,\n",
       "        936,  937,  938,  939,  940,  941,  942,  943,  944,  945,  946,\n",
       "        947,  948,  949,  950,  951,  952,  953,  954,  955,  956,  957,\n",
       "        958,  959,  960,  961,  962,  963,  964,  965,  966,  967,  968,\n",
       "        969,  970,  971,  972,  973,  974,  975,  976,  977,  978,  979,\n",
       "        980,  981,  982,  983,  984,  985,  986,  987,  988,  989,  990,\n",
       "        991,  992,  993,  994,  995,  996,  997,  998,  999, 1000],\n",
       "      dtype=int64)"
      ]
     },
     "execution_count": 51,
     "metadata": {},
     "output_type": "execute_result"
    }
   ],
   "source": [
    "fil['film_id'].unique()"
   ]
  },
  {
   "cell_type": "code",
   "execution_count": 17,
   "metadata": {},
   "outputs": [
    {
     "data": {
      "text/plain": [
       "(1000, 13)"
      ]
     },
     "execution_count": 17,
     "metadata": {},
     "output_type": "execute_result"
    }
   ],
   "source": [
    "fil.shape"
   ]
  },
  {
   "cell_type": "code",
   "execution_count": 18,
   "metadata": {},
   "outputs": [
    {
     "name": "stdout",
     "output_type": "stream",
     "text": [
      "original_language_id    1000\n",
      "dtype: int64\n"
     ]
    }
   ],
   "source": [
    "nulitos(fil)"
   ]
  },
  {
   "cell_type": "code",
   "execution_count": 19,
   "metadata": {},
   "outputs": [
    {
     "data": {
      "text/plain": [
       "language_id\n",
       "1    1000\n",
       "Name: count, dtype: int64"
      ]
     },
     "execution_count": 19,
     "metadata": {},
     "output_type": "execute_result"
    }
   ],
   "source": [
    "fil['language_id'].value_counts()"
   ]
  },
  {
   "cell_type": "code",
   "execution_count": 20,
   "metadata": {},
   "outputs": [],
   "source": [
    "fil = fil.drop(['last_update', 'original_language_id', 'language_id', 'release_year'], axis=1)\n"
   ]
  },
  {
   "cell_type": "code",
   "execution_count": 21,
   "metadata": {},
   "outputs": [
    {
     "data": {
      "text/plain": [
       "array([False])"
      ]
     },
     "execution_count": 21,
     "metadata": {},
     "output_type": "execute_result"
    }
   ],
   "source": [
    "fil['film_id'].duplicated().unique()\n",
    "fil['title'].duplicated().unique()"
   ]
  },
  {
   "cell_type": "code",
   "execution_count": 22,
   "metadata": {},
   "outputs": [
    {
     "data": {
      "text/plain": [
       "array(['PG', 'G', 'NC-17', 'PG-13', 'R'], dtype=object)"
      ]
     },
     "execution_count": 22,
     "metadata": {},
     "output_type": "execute_result"
    }
   ],
   "source": [
    "fil['rating'].unique()"
   ]
  },
  {
   "cell_type": "code",
   "execution_count": 23,
   "metadata": {},
   "outputs": [
    {
     "data": {
      "text/plain": [
       "185"
      ]
     },
     "execution_count": 23,
     "metadata": {},
     "output_type": "execute_result"
    }
   ],
   "source": [
    "fil['length'].max()"
   ]
  },
  {
   "cell_type": "code",
   "execution_count": 24,
   "metadata": {},
   "outputs": [
    {
     "data": {
      "text/html": [
       "<div>\n",
       "<style scoped>\n",
       "    .dataframe tbody tr th:only-of-type {\n",
       "        vertical-align: middle;\n",
       "    }\n",
       "\n",
       "    .dataframe tbody tr th {\n",
       "        vertical-align: top;\n",
       "    }\n",
       "\n",
       "    .dataframe thead th {\n",
       "        text-align: right;\n",
       "    }\n",
       "</style>\n",
       "<table border=\"1\" class=\"dataframe\">\n",
       "  <thead>\n",
       "    <tr style=\"text-align: right;\">\n",
       "      <th></th>\n",
       "      <th>film_id</th>\n",
       "      <th>title</th>\n",
       "      <th>description</th>\n",
       "      <th>rental_duration</th>\n",
       "      <th>rental_rate</th>\n",
       "      <th>length</th>\n",
       "      <th>replacement_cost</th>\n",
       "      <th>rating</th>\n",
       "      <th>special_features</th>\n",
       "    </tr>\n",
       "  </thead>\n",
       "  <tbody>\n",
       "    <tr>\n",
       "      <th>0</th>\n",
       "      <td>1</td>\n",
       "      <td>ACADEMY DINOSAUR</td>\n",
       "      <td>A Epic Drama of a Feminist And a Mad Scientist...</td>\n",
       "      <td>6</td>\n",
       "      <td>0.99</td>\n",
       "      <td>86</td>\n",
       "      <td>20.99</td>\n",
       "      <td>PG</td>\n",
       "      <td>Deleted Scenes,Behind the Scenes</td>\n",
       "    </tr>\n",
       "    <tr>\n",
       "      <th>1</th>\n",
       "      <td>2</td>\n",
       "      <td>ACE GOLDFINGER</td>\n",
       "      <td>A Astounding Epistle of a Database Administrat...</td>\n",
       "      <td>3</td>\n",
       "      <td>4.99</td>\n",
       "      <td>48</td>\n",
       "      <td>12.99</td>\n",
       "      <td>G</td>\n",
       "      <td>Trailers,Deleted Scenes</td>\n",
       "    </tr>\n",
       "    <tr>\n",
       "      <th>2</th>\n",
       "      <td>3</td>\n",
       "      <td>ADAPTATION HOLES</td>\n",
       "      <td>A Astounding Reflection of a Lumberjack And a ...</td>\n",
       "      <td>7</td>\n",
       "      <td>2.99</td>\n",
       "      <td>50</td>\n",
       "      <td>18.99</td>\n",
       "      <td>NC-17</td>\n",
       "      <td>Trailers,Deleted Scenes</td>\n",
       "    </tr>\n",
       "    <tr>\n",
       "      <th>3</th>\n",
       "      <td>4</td>\n",
       "      <td>AFFAIR PREJUDICE</td>\n",
       "      <td>A Fanciful Documentary of a Frisbee And a Lumb...</td>\n",
       "      <td>5</td>\n",
       "      <td>2.99</td>\n",
       "      <td>117</td>\n",
       "      <td>26.99</td>\n",
       "      <td>G</td>\n",
       "      <td>Commentaries,Behind the Scenes</td>\n",
       "    </tr>\n",
       "    <tr>\n",
       "      <th>4</th>\n",
       "      <td>5</td>\n",
       "      <td>AFRICAN EGG</td>\n",
       "      <td>A Fast-Paced Documentary of a Pastry Chef And ...</td>\n",
       "      <td>6</td>\n",
       "      <td>2.99</td>\n",
       "      <td>130</td>\n",
       "      <td>22.99</td>\n",
       "      <td>G</td>\n",
       "      <td>Deleted Scenes</td>\n",
       "    </tr>\n",
       "  </tbody>\n",
       "</table>\n",
       "</div>"
      ],
      "text/plain": [
       "   film_id             title   \n",
       "0        1  ACADEMY DINOSAUR  \\\n",
       "1        2    ACE GOLDFINGER   \n",
       "2        3  ADAPTATION HOLES   \n",
       "3        4  AFFAIR PREJUDICE   \n",
       "4        5       AFRICAN EGG   \n",
       "\n",
       "                                         description  rental_duration   \n",
       "0  A Epic Drama of a Feminist And a Mad Scientist...                6  \\\n",
       "1  A Astounding Epistle of a Database Administrat...                3   \n",
       "2  A Astounding Reflection of a Lumberjack And a ...                7   \n",
       "3  A Fanciful Documentary of a Frisbee And a Lumb...                5   \n",
       "4  A Fast-Paced Documentary of a Pastry Chef And ...                6   \n",
       "\n",
       "   rental_rate  length  replacement_cost rating   \n",
       "0         0.99      86             20.99     PG  \\\n",
       "1         4.99      48             12.99      G   \n",
       "2         2.99      50             18.99  NC-17   \n",
       "3         2.99     117             26.99      G   \n",
       "4         2.99     130             22.99      G   \n",
       "\n",
       "                   special_features  \n",
       "0  Deleted Scenes,Behind the Scenes  \n",
       "1           Trailers,Deleted Scenes  \n",
       "2           Trailers,Deleted Scenes  \n",
       "3    Commentaries,Behind the Scenes  \n",
       "4                    Deleted Scenes  "
      ]
     },
     "execution_count": 24,
     "metadata": {},
     "output_type": "execute_result"
    }
   ],
   "source": [
    "fil.head()"
   ]
  },
  {
   "cell_type": "code",
   "execution_count": null,
   "metadata": {},
   "outputs": [],
   "source": []
  },
  {
   "cell_type": "code",
   "execution_count": null,
   "metadata": {},
   "outputs": [],
   "source": []
  },
  {
   "cell_type": "code",
   "execution_count": 25,
   "metadata": {},
   "outputs": [
    {
     "data": {
      "text/html": [
       "<div>\n",
       "<style scoped>\n",
       "    .dataframe tbody tr th:only-of-type {\n",
       "        vertical-align: middle;\n",
       "    }\n",
       "\n",
       "    .dataframe tbody tr th {\n",
       "        vertical-align: top;\n",
       "    }\n",
       "\n",
       "    .dataframe thead th {\n",
       "        text-align: right;\n",
       "    }\n",
       "</style>\n",
       "<table border=\"1\" class=\"dataframe\">\n",
       "  <thead>\n",
       "    <tr style=\"text-align: right;\">\n",
       "      <th></th>\n",
       "      <th>inventory_id</th>\n",
       "      <th>film_id</th>\n",
       "      <th>store_id</th>\n",
       "      <th>last_update</th>\n",
       "    </tr>\n",
       "  </thead>\n",
       "  <tbody>\n",
       "    <tr>\n",
       "      <th>0</th>\n",
       "      <td>1</td>\n",
       "      <td>1</td>\n",
       "      <td>1</td>\n",
       "      <td>2006-02-15 05:09:17</td>\n",
       "    </tr>\n",
       "    <tr>\n",
       "      <th>1</th>\n",
       "      <td>2</td>\n",
       "      <td>1</td>\n",
       "      <td>1</td>\n",
       "      <td>2006-02-15 05:09:17</td>\n",
       "    </tr>\n",
       "    <tr>\n",
       "      <th>2</th>\n",
       "      <td>3</td>\n",
       "      <td>1</td>\n",
       "      <td>1</td>\n",
       "      <td>2006-02-15 05:09:17</td>\n",
       "    </tr>\n",
       "    <tr>\n",
       "      <th>3</th>\n",
       "      <td>4</td>\n",
       "      <td>1</td>\n",
       "      <td>1</td>\n",
       "      <td>2006-02-15 05:09:17</td>\n",
       "    </tr>\n",
       "    <tr>\n",
       "      <th>4</th>\n",
       "      <td>5</td>\n",
       "      <td>1</td>\n",
       "      <td>2</td>\n",
       "      <td>2006-02-15 05:09:17</td>\n",
       "    </tr>\n",
       "  </tbody>\n",
       "</table>\n",
       "</div>"
      ],
      "text/plain": [
       "   inventory_id  film_id  store_id          last_update\n",
       "0             1        1         1  2006-02-15 05:09:17\n",
       "1             2        1         1  2006-02-15 05:09:17\n",
       "2             3        1         1  2006-02-15 05:09:17\n",
       "3             4        1         1  2006-02-15 05:09:17\n",
       "4             5        1         2  2006-02-15 05:09:17"
      ]
     },
     "execution_count": 25,
     "metadata": {},
     "output_type": "execute_result"
    }
   ],
   "source": [
    "inv.head()"
   ]
  },
  {
   "cell_type": "code",
   "execution_count": 26,
   "metadata": {},
   "outputs": [
    {
     "data": {
      "text/plain": [
       "array([False])"
      ]
     },
     "execution_count": 26,
     "metadata": {},
     "output_type": "execute_result"
    }
   ],
   "source": [
    "inv = inv.drop(['last_update','store_id'], axis=1)\n",
    "inv['inventory_id'].duplicated().unique()"
   ]
  },
  {
   "cell_type": "code",
   "execution_count": 49,
   "metadata": {},
   "outputs": [
    {
     "data": {
      "text/plain": [
       "223"
      ]
     },
     "execution_count": 49,
     "metadata": {},
     "output_type": "execute_result"
    }
   ],
   "source": [
    "inv['film_id'].max()"
   ]
  },
  {
   "cell_type": "code",
   "execution_count": 27,
   "metadata": {},
   "outputs": [
    {
     "data": {
      "text/html": [
       "<div>\n",
       "<style scoped>\n",
       "    .dataframe tbody tr th:only-of-type {\n",
       "        vertical-align: middle;\n",
       "    }\n",
       "\n",
       "    .dataframe tbody tr th {\n",
       "        vertical-align: top;\n",
       "    }\n",
       "\n",
       "    .dataframe thead th {\n",
       "        text-align: right;\n",
       "    }\n",
       "</style>\n",
       "<table border=\"1\" class=\"dataframe\">\n",
       "  <thead>\n",
       "    <tr style=\"text-align: right;\">\n",
       "      <th></th>\n",
       "      <th>language_id</th>\n",
       "      <th>name</th>\n",
       "      <th>last_update</th>\n",
       "    </tr>\n",
       "  </thead>\n",
       "  <tbody>\n",
       "    <tr>\n",
       "      <th>0</th>\n",
       "      <td>1</td>\n",
       "      <td>English</td>\n",
       "      <td>2006-02-15 05:02:19</td>\n",
       "    </tr>\n",
       "    <tr>\n",
       "      <th>1</th>\n",
       "      <td>2</td>\n",
       "      <td>Italian</td>\n",
       "      <td>2006-02-15 05:02:19</td>\n",
       "    </tr>\n",
       "    <tr>\n",
       "      <th>2</th>\n",
       "      <td>3</td>\n",
       "      <td>Japanese</td>\n",
       "      <td>2006-02-15 05:02:19</td>\n",
       "    </tr>\n",
       "    <tr>\n",
       "      <th>3</th>\n",
       "      <td>4</td>\n",
       "      <td>Mandarin</td>\n",
       "      <td>2006-02-15 05:02:19</td>\n",
       "    </tr>\n",
       "    <tr>\n",
       "      <th>4</th>\n",
       "      <td>5</td>\n",
       "      <td>French</td>\n",
       "      <td>2006-02-15 05:02:19</td>\n",
       "    </tr>\n",
       "  </tbody>\n",
       "</table>\n",
       "</div>"
      ],
      "text/plain": [
       "   language_id      name          last_update\n",
       "0            1   English  2006-02-15 05:02:19\n",
       "1            2   Italian  2006-02-15 05:02:19\n",
       "2            3  Japanese  2006-02-15 05:02:19\n",
       "3            4  Mandarin  2006-02-15 05:02:19\n",
       "4            5    French  2006-02-15 05:02:19"
      ]
     },
     "execution_count": 27,
     "metadata": {},
     "output_type": "execute_result"
    }
   ],
   "source": [
    "lan.head()"
   ]
  },
  {
   "cell_type": "code",
   "execution_count": 28,
   "metadata": {},
   "outputs": [
    {
     "name": "stdout",
     "output_type": "stream",
     "text": [
      "Series([], dtype: int64)\n"
     ]
    }
   ],
   "source": [
    "nulitos(lan)"
   ]
  },
  {
   "cell_type": "code",
   "execution_count": 29,
   "metadata": {},
   "outputs": [
    {
     "data": {
      "text/plain": [
       "array([False])"
      ]
     },
     "execution_count": 29,
     "metadata": {},
     "output_type": "execute_result"
    }
   ],
   "source": [
    "lan = lan.drop('last_update', axis=1)\n",
    "lan['language_id'].duplicated().unique()\n"
   ]
  },
  {
   "cell_type": "code",
   "execution_count": 30,
   "metadata": {},
   "outputs": [
    {
     "data": {
      "text/plain": [
       "name\n",
       "English     1\n",
       "Italian     1\n",
       "Japanese    1\n",
       "Mandarin    1\n",
       "French      1\n",
       "German      1\n",
       "Name: count, dtype: int64"
      ]
     },
     "execution_count": 30,
     "metadata": {},
     "output_type": "execute_result"
    }
   ],
   "source": [
    "lan['name'].value_counts()"
   ]
  },
  {
   "cell_type": "code",
   "execution_count": 31,
   "metadata": {},
   "outputs": [
    {
     "data": {
      "text/html": [
       "<div>\n",
       "<style scoped>\n",
       "    .dataframe tbody tr th:only-of-type {\n",
       "        vertical-align: middle;\n",
       "    }\n",
       "\n",
       "    .dataframe tbody tr th {\n",
       "        vertical-align: top;\n",
       "    }\n",
       "\n",
       "    .dataframe thead th {\n",
       "        text-align: right;\n",
       "    }\n",
       "</style>\n",
       "<table border=\"1\" class=\"dataframe\">\n",
       "  <thead>\n",
       "    <tr style=\"text-align: right;\">\n",
       "      <th></th>\n",
       "      <th>first_name</th>\n",
       "      <th>last_name</th>\n",
       "      <th>title</th>\n",
       "      <th>release_year</th>\n",
       "      <th>category_id</th>\n",
       "    </tr>\n",
       "  </thead>\n",
       "  <tbody>\n",
       "    <tr>\n",
       "      <th>0</th>\n",
       "      <td>PENELOPE</td>\n",
       "      <td>GUINESS</td>\n",
       "      <td>ACADEMY DINOSAUR</td>\n",
       "      <td>2006</td>\n",
       "      <td>6</td>\n",
       "    </tr>\n",
       "    <tr>\n",
       "      <th>1</th>\n",
       "      <td>PENELOPE</td>\n",
       "      <td>GUINESS</td>\n",
       "      <td>ANACONDA CONFESSIONS</td>\n",
       "      <td>2006</td>\n",
       "      <td>2</td>\n",
       "    </tr>\n",
       "    <tr>\n",
       "      <th>2</th>\n",
       "      <td>PENELOPE</td>\n",
       "      <td>GUINESS</td>\n",
       "      <td>ANGELS LIFE</td>\n",
       "      <td>2006</td>\n",
       "      <td>13</td>\n",
       "    </tr>\n",
       "    <tr>\n",
       "      <th>3</th>\n",
       "      <td>PENELOPE</td>\n",
       "      <td>GUINESS</td>\n",
       "      <td>BULWORTH COMMANDMENTS</td>\n",
       "      <td>2006</td>\n",
       "      <td>10</td>\n",
       "    </tr>\n",
       "    <tr>\n",
       "      <th>4</th>\n",
       "      <td>PENELOPE</td>\n",
       "      <td>GUINESS</td>\n",
       "      <td>CHEAPER CLYDE</td>\n",
       "      <td>2006</td>\n",
       "      <td>14</td>\n",
       "    </tr>\n",
       "  </tbody>\n",
       "</table>\n",
       "</div>"
      ],
      "text/plain": [
       "  first_name last_name                  title  release_year  category_id\n",
       "0   PENELOPE   GUINESS       ACADEMY DINOSAUR          2006            6\n",
       "1   PENELOPE   GUINESS   ANACONDA CONFESSIONS          2006            2\n",
       "2   PENELOPE   GUINESS            ANGELS LIFE          2006           13\n",
       "3   PENELOPE   GUINESS  BULWORTH COMMANDMENTS          2006           10\n",
       "4   PENELOPE   GUINESS          CHEAPER CLYDE          2006           14"
      ]
     },
     "execution_count": 31,
     "metadata": {},
     "output_type": "execute_result"
    }
   ],
   "source": [
    "old.head()"
   ]
  },
  {
   "cell_type": "code",
   "execution_count": 32,
   "metadata": {},
   "outputs": [
    {
     "data": {
      "text/html": [
       "<div>\n",
       "<style scoped>\n",
       "    .dataframe tbody tr th:only-of-type {\n",
       "        vertical-align: middle;\n",
       "    }\n",
       "\n",
       "    .dataframe tbody tr th {\n",
       "        vertical-align: top;\n",
       "    }\n",
       "\n",
       "    .dataframe thead th {\n",
       "        text-align: right;\n",
       "    }\n",
       "</style>\n",
       "<table border=\"1\" class=\"dataframe\">\n",
       "  <thead>\n",
       "    <tr style=\"text-align: right;\">\n",
       "      <th></th>\n",
       "      <th>first_name</th>\n",
       "      <th>last_name</th>\n",
       "      <th>title</th>\n",
       "      <th>release_year</th>\n",
       "      <th>category_id</th>\n",
       "    </tr>\n",
       "  </thead>\n",
       "  <tbody>\n",
       "    <tr>\n",
       "      <th>995</th>\n",
       "      <td>GOLDIE</td>\n",
       "      <td>BRODY</td>\n",
       "      <td>COMANCHEROS ENEMY</td>\n",
       "      <td>2006</td>\n",
       "      <td>3</td>\n",
       "    </tr>\n",
       "    <tr>\n",
       "      <th>996</th>\n",
       "      <td>GOLDIE</td>\n",
       "      <td>BRODY</td>\n",
       "      <td>DAISY MENAGERIE</td>\n",
       "      <td>2006</td>\n",
       "      <td>14</td>\n",
       "    </tr>\n",
       "    <tr>\n",
       "      <th>997</th>\n",
       "      <td>GOLDIE</td>\n",
       "      <td>BRODY</td>\n",
       "      <td>DESERT POSEIDON</td>\n",
       "      <td>2006</td>\n",
       "      <td>11</td>\n",
       "    </tr>\n",
       "    <tr>\n",
       "      <th>998</th>\n",
       "      <td>GOLDIE</td>\n",
       "      <td>BRODY</td>\n",
       "      <td>EVERYONE CRAFT</td>\n",
       "      <td>2006</td>\n",
       "      <td>9</td>\n",
       "    </tr>\n",
       "    <tr>\n",
       "      <th>999</th>\n",
       "      <td>GOLDIE</td>\n",
       "      <td>BRODY</td>\n",
       "      <td>EXORCIST STING</td>\n",
       "      <td>2006</td>\n",
       "      <td>15</td>\n",
       "    </tr>\n",
       "  </tbody>\n",
       "</table>\n",
       "</div>"
      ],
      "text/plain": [
       "    first_name last_name              title  release_year  category_id\n",
       "995     GOLDIE     BRODY  COMANCHEROS ENEMY          2006            3\n",
       "996     GOLDIE     BRODY    DAISY MENAGERIE          2006           14\n",
       "997     GOLDIE     BRODY    DESERT POSEIDON          2006           11\n",
       "998     GOLDIE     BRODY     EVERYONE CRAFT          2006            9\n",
       "999     GOLDIE     BRODY     EXORCIST STING          2006           15"
      ]
     },
     "execution_count": 32,
     "metadata": {},
     "output_type": "execute_result"
    }
   ],
   "source": [
    "old.tail()"
   ]
  },
  {
   "cell_type": "code",
   "execution_count": 33,
   "metadata": {},
   "outputs": [
    {
     "data": {
      "text/plain": [
       "(1000, 5)"
      ]
     },
     "execution_count": 33,
     "metadata": {},
     "output_type": "execute_result"
    }
   ],
   "source": [
    "old.shape"
   ]
  },
  {
   "cell_type": "code",
   "execution_count": 34,
   "metadata": {},
   "outputs": [
    {
     "name": "stdout",
     "output_type": "stream",
     "text": [
      "Series([], dtype: int64)\n"
     ]
    }
   ],
   "source": [
    "nulitos(old)"
   ]
  },
  {
   "cell_type": "code",
   "execution_count": 35,
   "metadata": {},
   "outputs": [
    {
     "data": {
      "text/plain": [
       "array([False,  True])"
      ]
     },
     "execution_count": 35,
     "metadata": {},
     "output_type": "execute_result"
    }
   ],
   "source": [
    "old['category_id'].duplicated().unique()"
   ]
  },
  {
   "cell_type": "code",
   "execution_count": 36,
   "metadata": {},
   "outputs": [
    {
     "data": {
      "text/html": [
       "<div>\n",
       "<style scoped>\n",
       "    .dataframe tbody tr th:only-of-type {\n",
       "        vertical-align: middle;\n",
       "    }\n",
       "\n",
       "    .dataframe tbody tr th {\n",
       "        vertical-align: top;\n",
       "    }\n",
       "\n",
       "    .dataframe thead th {\n",
       "        text-align: right;\n",
       "    }\n",
       "</style>\n",
       "<table border=\"1\" class=\"dataframe\">\n",
       "  <thead>\n",
       "    <tr style=\"text-align: right;\">\n",
       "      <th></th>\n",
       "      <th>title</th>\n",
       "      <th>full_name</th>\n",
       "    </tr>\n",
       "  </thead>\n",
       "  <tbody>\n",
       "    <tr>\n",
       "      <th>0</th>\n",
       "      <td>ACADEMY DINOSAUR</td>\n",
       "      <td>PENELOPE GUINESS</td>\n",
       "    </tr>\n",
       "    <tr>\n",
       "      <th>1</th>\n",
       "      <td>ANACONDA CONFESSIONS</td>\n",
       "      <td>PENELOPE GUINESS</td>\n",
       "    </tr>\n",
       "    <tr>\n",
       "      <th>2</th>\n",
       "      <td>ANGELS LIFE</td>\n",
       "      <td>PENELOPE GUINESS</td>\n",
       "    </tr>\n",
       "    <tr>\n",
       "      <th>3</th>\n",
       "      <td>BULWORTH COMMANDMENTS</td>\n",
       "      <td>PENELOPE GUINESS</td>\n",
       "    </tr>\n",
       "    <tr>\n",
       "      <th>4</th>\n",
       "      <td>CHEAPER CLYDE</td>\n",
       "      <td>PENELOPE GUINESS</td>\n",
       "    </tr>\n",
       "    <tr>\n",
       "      <th>...</th>\n",
       "      <td>...</td>\n",
       "      <td>...</td>\n",
       "    </tr>\n",
       "    <tr>\n",
       "      <th>995</th>\n",
       "      <td>COMANCHEROS ENEMY</td>\n",
       "      <td>GOLDIE BRODY</td>\n",
       "    </tr>\n",
       "    <tr>\n",
       "      <th>996</th>\n",
       "      <td>DAISY MENAGERIE</td>\n",
       "      <td>GOLDIE BRODY</td>\n",
       "    </tr>\n",
       "    <tr>\n",
       "      <th>997</th>\n",
       "      <td>DESERT POSEIDON</td>\n",
       "      <td>GOLDIE BRODY</td>\n",
       "    </tr>\n",
       "    <tr>\n",
       "      <th>998</th>\n",
       "      <td>EVERYONE CRAFT</td>\n",
       "      <td>GOLDIE BRODY</td>\n",
       "    </tr>\n",
       "    <tr>\n",
       "      <th>999</th>\n",
       "      <td>EXORCIST STING</td>\n",
       "      <td>GOLDIE BRODY</td>\n",
       "    </tr>\n",
       "  </tbody>\n",
       "</table>\n",
       "<p>1000 rows × 2 columns</p>\n",
       "</div>"
      ],
      "text/plain": [
       "                     title         full_name\n",
       "0         ACADEMY DINOSAUR  PENELOPE GUINESS\n",
       "1     ANACONDA CONFESSIONS  PENELOPE GUINESS\n",
       "2              ANGELS LIFE  PENELOPE GUINESS\n",
       "3    BULWORTH COMMANDMENTS  PENELOPE GUINESS\n",
       "4            CHEAPER CLYDE  PENELOPE GUINESS\n",
       "..                     ...               ...\n",
       "995      COMANCHEROS ENEMY      GOLDIE BRODY\n",
       "996        DAISY MENAGERIE      GOLDIE BRODY\n",
       "997        DESERT POSEIDON      GOLDIE BRODY\n",
       "998         EVERYONE CRAFT      GOLDIE BRODY\n",
       "999         EXORCIST STING      GOLDIE BRODY\n",
       "\n",
       "[1000 rows x 2 columns]"
      ]
     },
     "execution_count": 36,
     "metadata": {},
     "output_type": "execute_result"
    }
   ],
   "source": [
    "old['full_name'] = old['first_name'].str.cat(old['last_name'], sep = ' ')\n",
    "old.drop(['first_name', 'last_name', 'category_id', 'release_year'], axis=1, inplace=True)\n",
    "\n",
    "old"
   ]
  },
  {
   "cell_type": "code",
   "execution_count": 37,
   "metadata": {},
   "outputs": [],
   "source": [
    "# old['film_id'] = fil['film_id'].copy()\n",
    "# old = old.merge(fil, on=(['film_id']), how='left')"
   ]
  },
  {
   "cell_type": "code",
   "execution_count": 38,
   "metadata": {},
   "outputs": [
    {
     "data": {
      "text/html": [
       "<div>\n",
       "<style scoped>\n",
       "    .dataframe tbody tr th:only-of-type {\n",
       "        vertical-align: middle;\n",
       "    }\n",
       "\n",
       "    .dataframe tbody tr th {\n",
       "        vertical-align: top;\n",
       "    }\n",
       "\n",
       "    .dataframe thead th {\n",
       "        text-align: right;\n",
       "    }\n",
       "</style>\n",
       "<table border=\"1\" class=\"dataframe\">\n",
       "  <thead>\n",
       "    <tr style=\"text-align: right;\">\n",
       "      <th></th>\n",
       "      <th>title</th>\n",
       "      <th>full_name</th>\n",
       "    </tr>\n",
       "  </thead>\n",
       "  <tbody>\n",
       "    <tr>\n",
       "      <th>0</th>\n",
       "      <td>ACADEMY DINOSAUR</td>\n",
       "      <td>PENELOPE GUINESS</td>\n",
       "    </tr>\n",
       "    <tr>\n",
       "      <th>1</th>\n",
       "      <td>ANACONDA CONFESSIONS</td>\n",
       "      <td>PENELOPE GUINESS</td>\n",
       "    </tr>\n",
       "    <tr>\n",
       "      <th>2</th>\n",
       "      <td>ANGELS LIFE</td>\n",
       "      <td>PENELOPE GUINESS</td>\n",
       "    </tr>\n",
       "    <tr>\n",
       "      <th>3</th>\n",
       "      <td>BULWORTH COMMANDMENTS</td>\n",
       "      <td>PENELOPE GUINESS</td>\n",
       "    </tr>\n",
       "    <tr>\n",
       "      <th>4</th>\n",
       "      <td>CHEAPER CLYDE</td>\n",
       "      <td>PENELOPE GUINESS</td>\n",
       "    </tr>\n",
       "    <tr>\n",
       "      <th>...</th>\n",
       "      <td>...</td>\n",
       "      <td>...</td>\n",
       "    </tr>\n",
       "    <tr>\n",
       "      <th>995</th>\n",
       "      <td>COMANCHEROS ENEMY</td>\n",
       "      <td>GOLDIE BRODY</td>\n",
       "    </tr>\n",
       "    <tr>\n",
       "      <th>996</th>\n",
       "      <td>DAISY MENAGERIE</td>\n",
       "      <td>GOLDIE BRODY</td>\n",
       "    </tr>\n",
       "    <tr>\n",
       "      <th>997</th>\n",
       "      <td>DESERT POSEIDON</td>\n",
       "      <td>GOLDIE BRODY</td>\n",
       "    </tr>\n",
       "    <tr>\n",
       "      <th>998</th>\n",
       "      <td>EVERYONE CRAFT</td>\n",
       "      <td>GOLDIE BRODY</td>\n",
       "    </tr>\n",
       "    <tr>\n",
       "      <th>999</th>\n",
       "      <td>EXORCIST STING</td>\n",
       "      <td>GOLDIE BRODY</td>\n",
       "    </tr>\n",
       "  </tbody>\n",
       "</table>\n",
       "<p>1000 rows × 2 columns</p>\n",
       "</div>"
      ],
      "text/plain": [
       "                     title         full_name\n",
       "0         ACADEMY DINOSAUR  PENELOPE GUINESS\n",
       "1     ANACONDA CONFESSIONS  PENELOPE GUINESS\n",
       "2              ANGELS LIFE  PENELOPE GUINESS\n",
       "3    BULWORTH COMMANDMENTS  PENELOPE GUINESS\n",
       "4            CHEAPER CLYDE  PENELOPE GUINESS\n",
       "..                     ...               ...\n",
       "995      COMANCHEROS ENEMY      GOLDIE BRODY\n",
       "996        DAISY MENAGERIE      GOLDIE BRODY\n",
       "997        DESERT POSEIDON      GOLDIE BRODY\n",
       "998         EVERYONE CRAFT      GOLDIE BRODY\n",
       "999         EXORCIST STING      GOLDIE BRODY\n",
       "\n",
       "[1000 rows x 2 columns]"
      ]
     },
     "execution_count": 38,
     "metadata": {},
     "output_type": "execute_result"
    }
   ],
   "source": [
    "#old.drop(['first_name', 'last_name', 'category_id', 'release_year'], axis=1, inplace=True)\n",
    "\n",
    "old"
   ]
  },
  {
   "cell_type": "code",
   "execution_count": 39,
   "metadata": {},
   "outputs": [
    {
     "data": {
      "text/html": [
       "<div>\n",
       "<style scoped>\n",
       "    .dataframe tbody tr th:only-of-type {\n",
       "        vertical-align: middle;\n",
       "    }\n",
       "\n",
       "    .dataframe tbody tr th {\n",
       "        vertical-align: top;\n",
       "    }\n",
       "\n",
       "    .dataframe thead th {\n",
       "        text-align: right;\n",
       "    }\n",
       "</style>\n",
       "<table border=\"1\" class=\"dataframe\">\n",
       "  <thead>\n",
       "    <tr style=\"text-align: right;\">\n",
       "      <th></th>\n",
       "      <th>rental_id</th>\n",
       "      <th>rental_date</th>\n",
       "      <th>inventory_id</th>\n",
       "      <th>customer_id</th>\n",
       "      <th>return_date</th>\n",
       "      <th>staff_id</th>\n",
       "      <th>last_update</th>\n",
       "    </tr>\n",
       "  </thead>\n",
       "  <tbody>\n",
       "    <tr>\n",
       "      <th>0</th>\n",
       "      <td>1</td>\n",
       "      <td>2005-05-24 22:53:30</td>\n",
       "      <td>367</td>\n",
       "      <td>130</td>\n",
       "      <td>2005-05-26 22:04:30</td>\n",
       "      <td>1</td>\n",
       "      <td>2006-02-15 21:30:53</td>\n",
       "    </tr>\n",
       "    <tr>\n",
       "      <th>1</th>\n",
       "      <td>2</td>\n",
       "      <td>2005-05-24 22:54:33</td>\n",
       "      <td>1525</td>\n",
       "      <td>459</td>\n",
       "      <td>2005-05-28 19:40:33</td>\n",
       "      <td>1</td>\n",
       "      <td>2006-02-15 21:30:53</td>\n",
       "    </tr>\n",
       "    <tr>\n",
       "      <th>2</th>\n",
       "      <td>3</td>\n",
       "      <td>2005-05-24 23:03:39</td>\n",
       "      <td>1711</td>\n",
       "      <td>408</td>\n",
       "      <td>2005-06-01 22:12:39</td>\n",
       "      <td>1</td>\n",
       "      <td>2006-02-15 21:30:53</td>\n",
       "    </tr>\n",
       "    <tr>\n",
       "      <th>3</th>\n",
       "      <td>4</td>\n",
       "      <td>2005-05-24 23:04:41</td>\n",
       "      <td>2452</td>\n",
       "      <td>333</td>\n",
       "      <td>2005-06-03 01:43:41</td>\n",
       "      <td>2</td>\n",
       "      <td>2006-02-15 21:30:53</td>\n",
       "    </tr>\n",
       "    <tr>\n",
       "      <th>4</th>\n",
       "      <td>5</td>\n",
       "      <td>2005-05-24 23:05:21</td>\n",
       "      <td>2079</td>\n",
       "      <td>222</td>\n",
       "      <td>2005-06-02 04:33:21</td>\n",
       "      <td>1</td>\n",
       "      <td>2006-02-15 21:30:53</td>\n",
       "    </tr>\n",
       "  </tbody>\n",
       "</table>\n",
       "</div>"
      ],
      "text/plain": [
       "   rental_id          rental_date  inventory_id  customer_id   \n",
       "0          1  2005-05-24 22:53:30           367          130  \\\n",
       "1          2  2005-05-24 22:54:33          1525          459   \n",
       "2          3  2005-05-24 23:03:39          1711          408   \n",
       "3          4  2005-05-24 23:04:41          2452          333   \n",
       "4          5  2005-05-24 23:05:21          2079          222   \n",
       "\n",
       "           return_date  staff_id          last_update  \n",
       "0  2005-05-26 22:04:30         1  2006-02-15 21:30:53  \n",
       "1  2005-05-28 19:40:33         1  2006-02-15 21:30:53  \n",
       "2  2005-06-01 22:12:39         1  2006-02-15 21:30:53  \n",
       "3  2005-06-03 01:43:41         2  2006-02-15 21:30:53  \n",
       "4  2005-06-02 04:33:21         1  2006-02-15 21:30:53  "
      ]
     },
     "execution_count": 39,
     "metadata": {},
     "output_type": "execute_result"
    }
   ],
   "source": [
    "ren.head()"
   ]
  },
  {
   "cell_type": "code",
   "execution_count": 40,
   "metadata": {},
   "outputs": [
    {
     "data": {
      "text/plain": [
       "(1000, 7)"
      ]
     },
     "execution_count": 40,
     "metadata": {},
     "output_type": "execute_result"
    }
   ],
   "source": [
    "ren.shape"
   ]
  },
  {
   "cell_type": "code",
   "execution_count": 41,
   "metadata": {},
   "outputs": [
    {
     "name": "stdout",
     "output_type": "stream",
     "text": [
      "Series([], dtype: int64)\n"
     ]
    }
   ],
   "source": [
    "nulitos(ren)"
   ]
  },
  {
   "cell_type": "code",
   "execution_count": 42,
   "metadata": {},
   "outputs": [],
   "source": [
    "ren.drop(['last_update', 'staff_id'], axis=1, inplace=True)"
   ]
  },
  {
   "cell_type": "code",
   "execution_count": 43,
   "metadata": {},
   "outputs": [
    {
     "data": {
      "text/plain": [
       "array([False])"
      ]
     },
     "execution_count": 43,
     "metadata": {},
     "output_type": "execute_result"
    }
   ],
   "source": [
    "ren.duplicated().unique()"
   ]
  },
  {
   "cell_type": "code",
   "execution_count": 44,
   "metadata": {},
   "outputs": [
    {
     "data": {
      "text/html": [
       "<div>\n",
       "<style scoped>\n",
       "    .dataframe tbody tr th:only-of-type {\n",
       "        vertical-align: middle;\n",
       "    }\n",
       "\n",
       "    .dataframe tbody tr th {\n",
       "        vertical-align: top;\n",
       "    }\n",
       "\n",
       "    .dataframe thead th {\n",
       "        text-align: right;\n",
       "    }\n",
       "</style>\n",
       "<table border=\"1\" class=\"dataframe\">\n",
       "  <thead>\n",
       "    <tr style=\"text-align: right;\">\n",
       "      <th></th>\n",
       "      <th>rental_id</th>\n",
       "      <th>rental_date</th>\n",
       "      <th>inventory_id</th>\n",
       "      <th>customer_id</th>\n",
       "      <th>return_date</th>\n",
       "    </tr>\n",
       "  </thead>\n",
       "  <tbody>\n",
       "    <tr>\n",
       "      <th>0</th>\n",
       "      <td>1</td>\n",
       "      <td>2005-05-24 22:53:30</td>\n",
       "      <td>367</td>\n",
       "      <td>130</td>\n",
       "      <td>2005-05-26 22:04:30</td>\n",
       "    </tr>\n",
       "    <tr>\n",
       "      <th>1</th>\n",
       "      <td>2</td>\n",
       "      <td>2005-05-24 22:54:33</td>\n",
       "      <td>1525</td>\n",
       "      <td>459</td>\n",
       "      <td>2005-05-28 19:40:33</td>\n",
       "    </tr>\n",
       "    <tr>\n",
       "      <th>2</th>\n",
       "      <td>3</td>\n",
       "      <td>2005-05-24 23:03:39</td>\n",
       "      <td>1711</td>\n",
       "      <td>408</td>\n",
       "      <td>2005-06-01 22:12:39</td>\n",
       "    </tr>\n",
       "    <tr>\n",
       "      <th>3</th>\n",
       "      <td>4</td>\n",
       "      <td>2005-05-24 23:04:41</td>\n",
       "      <td>2452</td>\n",
       "      <td>333</td>\n",
       "      <td>2005-06-03 01:43:41</td>\n",
       "    </tr>\n",
       "    <tr>\n",
       "      <th>4</th>\n",
       "      <td>5</td>\n",
       "      <td>2005-05-24 23:05:21</td>\n",
       "      <td>2079</td>\n",
       "      <td>222</td>\n",
       "      <td>2005-06-02 04:33:21</td>\n",
       "    </tr>\n",
       "  </tbody>\n",
       "</table>\n",
       "</div>"
      ],
      "text/plain": [
       "   rental_id          rental_date  inventory_id  customer_id   \n",
       "0          1  2005-05-24 22:53:30           367          130  \\\n",
       "1          2  2005-05-24 22:54:33          1525          459   \n",
       "2          3  2005-05-24 23:03:39          1711          408   \n",
       "3          4  2005-05-24 23:04:41          2452          333   \n",
       "4          5  2005-05-24 23:05:21          2079          222   \n",
       "\n",
       "           return_date  \n",
       "0  2005-05-26 22:04:30  \n",
       "1  2005-05-28 19:40:33  \n",
       "2  2005-06-01 22:12:39  \n",
       "3  2005-06-03 01:43:41  \n",
       "4  2005-06-02 04:33:21  "
      ]
     },
     "execution_count": 44,
     "metadata": {},
     "output_type": "execute_result"
    }
   ],
   "source": [
    "ren['rental_id'].duplicated().unique()\n",
    "ren.head()"
   ]
  },
  {
   "cell_type": "code",
   "execution_count": 45,
   "metadata": {},
   "outputs": [],
   "source": [
    "fil['actors'] = '' #creamos columna vacía\n",
    "def actors(peli): #creamos función que saque los actores de esa peli\n",
    "    act = []\n",
    "    for i in old.index:\n",
    "        if old.title[i] == peli:\n",
    "            name = old.full_name[i]\n",
    "            act.append(name)\n",
    "    return ', '.join(act)"
   ]
  },
  {
   "cell_type": "code",
   "execution_count": 46,
   "metadata": {},
   "outputs": [],
   "source": [
    "for i in fil.index:\n",
    "    fil['actors'][i] = actors(fil.title[i])"
   ]
  },
  {
   "cell_type": "code",
   "execution_count": 47,
   "metadata": {},
   "outputs": [
    {
     "data": {
      "text/plain": [
       "actors\n",
       "                                            386\n",
       "SANDRA KILMER                                13\n",
       "VIVIEN BERGEN                                13\n",
       "MILLA PECK                                   13\n",
       "TOM MCKELLEN                                 12\n",
       "                                           ... \n",
       "CAMERON STREEP, ALEC WAYNE, TOM MCKELLEN      1\n",
       "CUBA OLIVIER, ALEC WAYNE                      1\n",
       "FRED COSTNER, RIP CRAWFORD                    1\n",
       "ZERO CAGE, LUCILLE TRACY                      1\n",
       "SANDRA KILMER, VAL BOLGER                     1\n",
       "Name: count, Length: 284, dtype: int64"
      ]
     },
     "execution_count": 47,
     "metadata": {},
     "output_type": "execute_result"
    }
   ],
   "source": [
    "fil.actors.value_counts()"
   ]
  },
  {
   "cell_type": "code",
   "execution_count": 48,
   "metadata": {},
   "outputs": [],
   "source": [
    "act.to_csv('../../not/actor_clean.csv', index=False)\n",
    "fil.to_csv('../../not/film_clean.csv', index=False)\n",
    "inv.to_csv('../../not/inventory_clean.csv', index=False)\n",
    "old.to_csv('../../not/hdd_clean.csv', index=False)\n",
    "ren.to_csv('../../not/rental_clean.csv', index=False)\n"
   ]
  },
  {
   "cell_type": "code",
   "execution_count": null,
   "metadata": {},
   "outputs": [],
   "source": []
  }
 ],
 "metadata": {
  "kernelspec": {
   "display_name": "Python 3",
   "language": "python",
   "name": "python3"
  },
  "language_info": {
   "codemirror_mode": {
    "name": "ipython",
    "version": 3
   },
   "file_extension": ".py",
   "mimetype": "text/x-python",
   "name": "python",
   "nbconvert_exporter": "python",
   "pygments_lexer": "ipython3",
   "version": "3.11.3"
  },
  "orig_nbformat": 4
 },
 "nbformat": 4,
 "nbformat_minor": 2
}
